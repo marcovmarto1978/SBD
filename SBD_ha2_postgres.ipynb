{
 "cells": [
  {
   "cell_type": "markdown",
   "metadata": {},
   "source": [
    "# Database Systems - Homework Assignment 2 - Part 1\n",
    "University of Aveiro \n"
   ]
  },
  {
   "cell_type": "markdown",
   "metadata": {},
   "source": [
    "This notebook shows how to read a csv file and import the data into a relational database. \n",
    "Inserting a large amount of data via pyodbc can be extremely slow. For more information, see https://stackoverflow.com/questions/5693885/pyodbc-very-slow-bulk-insert-speed. There are tools developed specifically for extracting, transforming and loading (ETL) data into databases, but this topic is outside the scope of this class."
   ]
  },
  {
   "cell_type": "markdown",
   "metadata": {},
   "source": [
    "### Importing data from a csv file into Postgres\n",
    "The first example shows how to read the file using a csv.reader.\n",
    "\n",
    "SEE: https://zetcode.com/python/psycopg2/"
   ]
  },
  {
   "cell_type": "markdown",
   "metadata": {},
   "source": [
    "# Importação de Pacotes"
   ]
  },
  {
   "cell_type": "code",
   "execution_count": 66,
   "metadata": {},
   "outputs": [],
   "source": [
    "import numpy as np\n",
    "import pandas as pd\n",
    "import os\n",
    "import math\n",
    "import csv\n",
    "import psycopg2 as pg\n",
    "import chardet\n",
    "\n",
    "# seed the pseudorandom number generator\n",
    "from random import seed\n",
    "from random import random\n",
    "from random import randint\n",
    "\n",
    "import matplotlib\n",
    "import matplotlib.pyplot as plt \n",
    "from matplotlib.legend import Legend"
   ]
  },
  {
   "cell_type": "markdown",
   "metadata": {},
   "source": [
    "# Preenchimento com informação aleatória da tabela student"
   ]
  },
  {
   "cell_type": "code",
   "execution_count": 67,
   "metadata": {},
   "outputs": [
    {
     "data": {
      "text/html": [
       "<div>\n",
       "<style scoped>\n",
       "    .dataframe tbody tr th:only-of-type {\n",
       "        vertical-align: middle;\n",
       "    }\n",
       "\n",
       "    .dataframe tbody tr th {\n",
       "        vertical-align: top;\n",
       "    }\n",
       "\n",
       "    .dataframe thead th {\n",
       "        text-align: right;\n",
       "    }\n",
       "</style>\n",
       "<table border=\"1\" class=\"dataframe\">\n",
       "  <thead>\n",
       "    <tr style=\"text-align: right;\">\n",
       "      <th></th>\n",
       "      <th>id</th>\n",
       "      <th>gender</th>\n",
       "      <th>age_group</th>\n",
       "      <th>year</th>\n",
       "      <th>area</th>\n",
       "    </tr>\n",
       "  </thead>\n",
       "  <tbody>\n",
       "    <tr>\n",
       "      <th>0</th>\n",
       "      <td>117612</td>\n",
       "      <td>M</td>\n",
       "      <td>35-44</td>\n",
       "      <td>1</td>\n",
       "      <td>engineering</td>\n",
       "    </tr>\n",
       "    <tr>\n",
       "      <th>1</th>\n",
       "      <td>115456</td>\n",
       "      <td>F</td>\n",
       "      <td>18-24</td>\n",
       "      <td>4</td>\n",
       "      <td>life sciences</td>\n",
       "    </tr>\n",
       "    <tr>\n",
       "      <th>2</th>\n",
       "      <td>112303</td>\n",
       "      <td>F</td>\n",
       "      <td>45-54</td>\n",
       "      <td>4</td>\n",
       "      <td>mathematics</td>\n",
       "    </tr>\n",
       "    <tr>\n",
       "      <th>3</th>\n",
       "      <td>179619</td>\n",
       "      <td>M</td>\n",
       "      <td>18-24</td>\n",
       "      <td>4</td>\n",
       "      <td>engineering</td>\n",
       "    </tr>\n",
       "    <tr>\n",
       "      <th>4</th>\n",
       "      <td>194574</td>\n",
       "      <td>M</td>\n",
       "      <td>18-24</td>\n",
       "      <td>1</td>\n",
       "      <td>engineering</td>\n",
       "    </tr>\n",
       "    <tr>\n",
       "      <th>5</th>\n",
       "      <td>104010</td>\n",
       "      <td>F</td>\n",
       "      <td>18-24</td>\n",
       "      <td>1</td>\n",
       "      <td>mathematics</td>\n",
       "    </tr>\n",
       "    <tr>\n",
       "      <th>6</th>\n",
       "      <td>189979</td>\n",
       "      <td>F</td>\n",
       "      <td>18-24</td>\n",
       "      <td>1</td>\n",
       "      <td>life sciences</td>\n",
       "    </tr>\n",
       "    <tr>\n",
       "      <th>7</th>\n",
       "      <td>157395</td>\n",
       "      <td>M</td>\n",
       "      <td>18-24</td>\n",
       "      <td>3</td>\n",
       "      <td>life sciences</td>\n",
       "    </tr>\n",
       "    <tr>\n",
       "      <th>8</th>\n",
       "      <td>188716</td>\n",
       "      <td>F</td>\n",
       "      <td>18-24</td>\n",
       "      <td>3</td>\n",
       "      <td>social sciences</td>\n",
       "    </tr>\n",
       "    <tr>\n",
       "      <th>9</th>\n",
       "      <td>154550</td>\n",
       "      <td>M</td>\n",
       "      <td>18-24</td>\n",
       "      <td>1</td>\n",
       "      <td>life sciences</td>\n",
       "    </tr>\n",
       "    <tr>\n",
       "      <th>10</th>\n",
       "      <td>182491</td>\n",
       "      <td>M</td>\n",
       "      <td>45-54</td>\n",
       "      <td>1</td>\n",
       "      <td>engineering</td>\n",
       "    </tr>\n",
       "    <tr>\n",
       "      <th>11</th>\n",
       "      <td>194567</td>\n",
       "      <td>M</td>\n",
       "      <td>18-24</td>\n",
       "      <td>4</td>\n",
       "      <td>life sciences</td>\n",
       "    </tr>\n",
       "    <tr>\n",
       "      <th>12</th>\n",
       "      <td>139764</td>\n",
       "      <td>F</td>\n",
       "      <td>55-64</td>\n",
       "      <td>4</td>\n",
       "      <td>mathematics</td>\n",
       "    </tr>\n",
       "    <tr>\n",
       "      <th>13</th>\n",
       "      <td>177202</td>\n",
       "      <td>M</td>\n",
       "      <td>18-24</td>\n",
       "      <td>4</td>\n",
       "      <td>mathematics</td>\n",
       "    </tr>\n",
       "    <tr>\n",
       "      <th>14</th>\n",
       "      <td>187130</td>\n",
       "      <td>F</td>\n",
       "      <td>18-24</td>\n",
       "      <td>3</td>\n",
       "      <td>social sciences</td>\n",
       "    </tr>\n",
       "    <tr>\n",
       "      <th>15</th>\n",
       "      <td>157536</td>\n",
       "      <td>M</td>\n",
       "      <td>18-24</td>\n",
       "      <td>2</td>\n",
       "      <td>mathematics</td>\n",
       "    </tr>\n",
       "    <tr>\n",
       "      <th>16</th>\n",
       "      <td>148566</td>\n",
       "      <td>F</td>\n",
       "      <td>18-24</td>\n",
       "      <td>1</td>\n",
       "      <td>engineering</td>\n",
       "    </tr>\n",
       "    <tr>\n",
       "      <th>17</th>\n",
       "      <td>192194</td>\n",
       "      <td>M</td>\n",
       "      <td>18-24</td>\n",
       "      <td>5</td>\n",
       "      <td>mathematics</td>\n",
       "    </tr>\n",
       "    <tr>\n",
       "      <th>18</th>\n",
       "      <td>184825</td>\n",
       "      <td>F</td>\n",
       "      <td>18-24</td>\n",
       "      <td>1</td>\n",
       "      <td>life sciences</td>\n",
       "    </tr>\n",
       "    <tr>\n",
       "      <th>19</th>\n",
       "      <td>170729</td>\n",
       "      <td>M</td>\n",
       "      <td>18-24</td>\n",
       "      <td>4</td>\n",
       "      <td>engineering</td>\n",
       "    </tr>\n",
       "  </tbody>\n",
       "</table>\n",
       "</div>"
      ],
      "text/plain": [
       "        id gender age_group  year             area\n",
       "0   117612      M     35-44     1      engineering\n",
       "1   115456      F     18-24     4    life sciences\n",
       "2   112303      F     45-54     4      mathematics\n",
       "3   179619      M     18-24     4      engineering\n",
       "4   194574      M     18-24     1      engineering\n",
       "5   104010      F     18-24     1      mathematics\n",
       "6   189979      F     18-24     1    life sciences\n",
       "7   157395      M     18-24     3    life sciences\n",
       "8   188716      F     18-24     3  social sciences\n",
       "9   154550      M     18-24     1    life sciences\n",
       "10  182491      M     45-54     1      engineering\n",
       "11  194567      M     18-24     4    life sciences\n",
       "12  139764      F     55-64     4      mathematics\n",
       "13  177202      M     18-24     4      mathematics\n",
       "14  187130      F     18-24     3  social sciences\n",
       "15  157536      M     18-24     2      mathematics\n",
       "16  148566      F     18-24     1      engineering\n",
       "17  192194      M     18-24     5      mathematics\n",
       "18  184825      F     18-24     1    life sciences\n",
       "19  170729      M     18-24     4      engineering"
      ]
     },
     "execution_count": 67,
     "metadata": {},
     "output_type": "execute_result"
    }
   ],
   "source": [
    "# simulate students data: id, gender, age_group, year, area\n",
    "nr_students = 20\n",
    "ids = [] \n",
    "gender = []\n",
    "age_groups = ['18-24', '25-34', '35-44', '45-54', '55-64', '65+']\n",
    "age_group = []\n",
    "year = []\n",
    "areas = ['social sciences','life sciences','engineering','mathematics']\n",
    "area = []\n",
    "seed(1) \n",
    "for i in range(0,nr_students):\n",
    "    ids.append(randint(100001, 200000))\n",
    "    gender.append('M' if random() > 0.5 else 'F')\n",
    "    r_age = random()\n",
    "    age_group.append(age_groups[0] if r_age <= 0.5 else age_group[1] if r_age <= 0.75 else age_groups[2] if r_age <= 0.85 else age_groups[3] if r_age <= 0.95 else age_groups[4] if r_age <= 0.98 else age_groups[5])\n",
    "    year.append(randint(1, 5))\n",
    "    r_area = randint(0,3)\n",
    "    area.append(areas[0] if r_area == 0 else areas[1] if r_area == 1 else areas[2] if r_area == 2 else areas[3])\n",
    "\n",
    "dictionary_students = { 'id': ids, 'gender': gender, 'age_group': age_group, 'year': year, 'area': area }\n",
    "\n",
    "df_student = pd.DataFrame(dictionary_students)\n",
    "\n",
    "df_student"
   ]
  },
  {
   "cell_type": "markdown",
   "metadata": {},
   "source": [
    "# Comandos em PostgreSQL para criar as bases de dados e populá-las"
   ]
  },
  {
   "cell_type": "code",
   "execution_count": 68,
   "metadata": {},
   "outputs": [
    {
     "name": "stdout",
     "output_type": "stream",
     "text": [
      "Processed 20 lines.\n"
     ]
    }
   ],
   "source": [
    "con = pg.connect(user=\"postgres\",\n",
    "                password=\"pa55word\",\n",
    "                host=\"127.0.0.1\",\n",
    "                port=\"5432\",\n",
    "                database=\"ha2\")\n",
    "\n",
    "cursor = con.cursor()\n",
    "\n",
    "create_database = \"\"\"\n",
    "                    DROP TABLE IF EXISTS public.student CASCADE;\n",
    "\n",
    "                    CREATE TABLE public.student\n",
    "                    (\n",
    "                        student_id character varying(3) NOT NULL,\n",
    "                        id integer NOT NULL,\n",
    "                        gender character(1) COLLATE pg_catalog.\"default\",\n",
    "                        age_group character varying(7) COLLATE pg_catalog.\"default\",\n",
    "                        year integer,\n",
    "                        area character varying(20) COLLATE pg_catalog.\"default\",\n",
    "                        UNIQUE(id),\n",
    "                        CONSTRAINT \"PK_student\" PRIMARY KEY (student_id)\n",
    "                    );\n",
    "\n",
    "                    DROP TABLE IF EXISTS public.dinning CASCADE;\n",
    "\n",
    "                    CREATE TABLE public.dinning\n",
    "                    (\n",
    "                        student_id character varying(3) COLLATE pg_catalog.\"default\" NOT NULL,\n",
    "                        date timestamp without time zone NOT NULL,\n",
    "                        company character varying(50) COLLATE pg_catalog.\"default\",\n",
    "                        meal character varying(50) COLLATE pg_catalog.\"default\",\n",
    "                        CONSTRAINT dinning_pkey PRIMARY KEY (student_id, date),\n",
    "                        CONSTRAINT FK_dinning_students FOREIGN KEY (student_id) REFERENCES student (student_id)\n",
    "                    );\n",
    "\n",
    "                    DROP TABLE IF EXISTS public.grades CASCADE;\n",
    "\n",
    "                    CREATE TABLE public.grades\n",
    "                    (\n",
    "                        student_id character varying(3) COLLATE pg_catalog.\"default\" NOT NULL,\n",
    "                        gpa_all double precision,\n",
    "                        gpa_13s double precision,\n",
    "                        cs_65 double precision,\n",
    "                        CONSTRAINT \"PK_grades\" PRIMARY KEY (student_id),\n",
    "                        CONSTRAINT FK_grades_students FOREIGN KEY (student_id) REFERENCES student (student_id)\n",
    "                    );\n",
    "\n",
    "                    DROP TABLE IF EXISTS public.perceivedstressscale CASCADE;\n",
    "\n",
    "                    CREATE TABLE public.perceivedstressscale\n",
    "                    (\n",
    "                        student_id character varying(3) COLLATE pg_catalog.\"default\" NOT NULL,\n",
    "                        type character varying(5) COLLATE pg_catalog.\"default\" NOT NULL,\n",
    "                        q1 character varying(50) COLLATE pg_catalog.\"default\",\n",
    "                        q2 character varying(50) COLLATE pg_catalog.\"default\",\n",
    "                        q3 character varying(50) COLLATE pg_catalog.\"default\",\n",
    "                        q4 character varying(50) COLLATE pg_catalog.\"default\",\n",
    "                        q5 character varying(50) COLLATE pg_catalog.\"default\",\n",
    "                        q6 character varying(50) COLLATE pg_catalog.\"default\",\n",
    "                        q7 character varying(50) COLLATE pg_catalog.\"default\",\n",
    "                        q8 character varying(50) COLLATE pg_catalog.\"default\",\n",
    "                        q9 character varying(50) COLLATE pg_catalog.\"default\",\n",
    "                        q10 character varying(50) COLLATE pg_catalog.\"default\",\n",
    "                        CONSTRAINT \"PK_stress\" PRIMARY KEY (student_id,type),\n",
    "                        CONSTRAINT FK_perceivedstressscale_students FOREIGN KEY (student_id) REFERENCES student (student_id)\n",
    "                    );\n",
    "\n",
    "                    DROP TABLE IF EXISTS public.panas CASCADE;\n",
    "\n",
    "                    CREATE TABLE public.panas\n",
    "                    (\n",
    "                        student_id character varying(3) COLLATE pg_catalog.\"default\" NOT NULL,\n",
    "                        type character varying(5) COLLATE pg_catalog.\"default\" NOT NULL,\n",
    "                        interested integer,\n",
    "                        distressed integer,\n",
    "                        upset integer,\n",
    "                        strong integer,\n",
    "                        guilty integer,\n",
    "                        scared integer,\n",
    "                        hostile integer,\n",
    "                        enthusiastic integer,\n",
    "                        proud integer,\n",
    "                        irritable integer,\n",
    "                        alert integer,\n",
    "                        inspired integer,\n",
    "                        nervous integer,\n",
    "                        determined integer,\n",
    "                        attentive integer,\n",
    "                        jittery integer,\n",
    "                        active integer,\n",
    "                        afraid integer,\n",
    "                        CONSTRAINT \"PK_panas\" PRIMARY KEY (student_id, type),\n",
    "                        CONSTRAINT FK_panas_students FOREIGN KEY (student_id) REFERENCES student (student_id)\n",
    "                    );\n",
    "\n",
    "\n",
    "                  \"\"\"\n",
    "\n",
    "cursor.execute(create_database)\n",
    "\n",
    "ustd = []\n",
    "stdid = 1\n",
    "for raw in range(len(df_student)):\n",
    "    if stdid == 6:\n",
    "        stdid += 1\n",
    "    u = \"u0\" + str(stdid) if len(str(stdid)) == 1 else \"u\" + str(stdid)\n",
    "    insert = \"INSERT INTO public.student(student_id, id, gender, age_group, year, area) VALUES('\" + u + \"', \" + str(df_student[\"id\"].iloc[raw]) + \", '\" + str(df_student[\"gender\"].iloc[raw]) + \"', '\" + str(df_student[\"age_group\"].iloc[raw]) + \"', \" + str(df_student[\"year\"].iloc[raw]) + \", '\" + str(df_student[\"area\"].iloc[raw]) + \"');\"\n",
    "    cursor.execute(insert)\n",
    "    ustd.append(u)\n",
    "    stdid += 1\n",
    "          \n",
    "print(f'Processed {raw+1} lines.')"
   ]
  },
  {
   "cell_type": "markdown",
   "metadata": {},
   "source": [
    "# Popular a tabela dinning"
   ]
  },
  {
   "cell_type": "code",
   "execution_count": 69,
   "metadata": {},
   "outputs": [
    {
     "name": "stdout",
     "output_type": "stream",
     "text": [
      "There is no information about u03\n",
      "There is no information about u11\n",
      "There is no information about u13\n",
      "There is no information about u17\n",
      "There is no information about u21\n"
     ]
    }
   ],
   "source": [
    "for std in ustd:\n",
    "    try:\n",
    "        with open(os.getcwd() + '\\\\dataset\\\\dinning\\\\' + std + '.txt', 'rb') as f:\n",
    "            result = chardet.detect(f.read(100000))\n",
    "        with open(os.getcwd() + '\\\\dataset\\\\dinning\\\\' + std + '.txt', 'r', encoding = result['encoding']) as f:\t\n",
    "            linhas = f.readlines()\n",
    "            for linha in linhas:\n",
    "                l = linha.strip().split(',')\n",
    "                insert = \"INSERT INTO public.dinning VALUES('\" + std + \"', CAST('\" + l[0] + \"' AS TIMESTAMP), '\" + l[1] + \"', '\" + l[2] + \"');\"\n",
    "                cursor.execute(insert)\n",
    "    except:\n",
    "        print(\"There is no information about\", std)\n",
    "\n",
    "    con.commit()\n"
   ]
  },
  {
   "cell_type": "markdown",
   "metadata": {},
   "source": [
    "# Popular a tabela grades"
   ]
  },
  {
   "cell_type": "code",
   "execution_count": 70,
   "metadata": {},
   "outputs": [],
   "source": [
    "with open(os.getcwd() + '\\\\dataset\\\\education\\\\grades.csv', 'rb') as f:\n",
    "    result = chardet.detect(f.read(100000))\n",
    "with open(os.getcwd() + '\\\\dataset\\\\education\\\\grades.csv', 'r') as f:\t\n",
    "    linhas = f.readlines()\n",
    "    cnt = 1\n",
    "    for linha in linhas: \n",
    "        l = linha.strip().split(',')\n",
    "        if cnt > 1 and l[0] in ustd :\n",
    "            insert = \"INSERT INTO public.grades VALUES('\" + l[0] + \"', \" + l[1] + \", \" + l[2] + \", \" + l[3] + \");\"\n",
    "            cursor.execute(insert)\n",
    "        cnt += 1\n",
    "    con.commit()"
   ]
  },
  {
   "cell_type": "markdown",
   "metadata": {},
   "source": [
    "# Popular a tabela PerceivedStressScale"
   ]
  },
  {
   "cell_type": "code",
   "execution_count": 71,
   "metadata": {},
   "outputs": [],
   "source": [
    "with open(os.getcwd() + '\\\\dataset\\\\survey\\\\PerceivedStressScale.csv', 'rb') as f:\n",
    "    result = chardet.detect(f.read(100000))\n",
    "with open(os.getcwd() + '\\\\dataset\\\\survey\\\\PerceivedStressScale.csv', 'r') as f:\t\n",
    "    linhas = f.readlines()\n",
    "    cnt = 1\n",
    "    for linha in linhas: \n",
    "        l = linha.strip().split(',')\n",
    "        if cnt > 1 and l[0] in ustd :\n",
    "            insert = \"INSERT INTO public.perceivedstressscale VALUES('\" + l[0] + \"', '\" + l[1] + \"', '\" + l[2] + \"', '\" + l[3] + \"', '\" + l[4] + \"', '\" + l[5] + \"', '\" + l[6] + \"', '\" + l[7] + \"', '\" + l[8] + \"', '\" + l[9] + \"', '\" + l[10] + \"', '\" + l[11] + \"');\"\n",
    "            cursor.execute(insert)\n",
    "        cnt += 1\n",
    "    con.commit()"
   ]
  },
  {
   "cell_type": "markdown",
   "metadata": {},
   "source": [
    "# Popular a tabela panas"
   ]
  },
  {
   "cell_type": "code",
   "execution_count": 72,
   "metadata": {},
   "outputs": [],
   "source": [
    "with open(os.getcwd() + '\\\\dataset\\\\survey\\\\panas.csv', 'rb') as f:\n",
    "    result = chardet.detect(f.read(100000))\n",
    "with open(os.getcwd() + '\\\\dataset\\\\survey\\\\panas.csv', 'r') as f:\t\n",
    "    linhas = f.readlines()\n",
    "    cnt = 1\n",
    "    for linha in linhas: \n",
    "        l = linha.strip().split(',')\n",
    "        if cnt > 1 and l[0] in ustd :\n",
    "            insert = \"INSERT INTO public.panas VALUES('\" + l[0] + \"', '\" + l[1] + \"', '\" + l[2] + \"', '\" + l[3] + \"', '\" + l[4] + \"', '\" + l[5] + \"', '\" + l[6] + \"', '\" + l[7] + \"', '\" + l[8] + \"', '\" + l[9] + \"', '\" + l[10] + \"', '\" + l[11] + \"', '\" + l[12] + \"', '\" + l[13] + \"', '\" + l[14] + \"', '\" + l[15] + \"', '\" + l[16] + \"', '\" + l[17] + \"', '\" + l[18] + \"', '\" + l[19] + \"');\"\n",
    "            cursor.execute(insert)\n",
    "        cnt += 1\n",
    "    con.commit()"
   ]
  },
  {
   "cell_type": "markdown",
   "metadata": {},
   "source": [
    "# Fechar a ligação"
   ]
  },
  {
   "cell_type": "code",
   "execution_count": 73,
   "metadata": {},
   "outputs": [],
   "source": [
    "con.close()"
   ]
  },
  {
   "cell_type": "markdown",
   "metadata": {},
   "source": [
    "# Gráfico do GPA médio por área de estudo "
   ]
  },
  {
   "cell_type": "code",
   "execution_count": 74,
   "metadata": {},
   "outputs": [
    {
     "name": "stdout",
     "output_type": "stream",
     "text": [
      "PostgreSQL connection is closed\n"
     ]
    }
   ],
   "source": [
    "try:\n",
    "    connection = pg.connect(user=\"postgres\",\n",
    "                                  password=\"pa55word\",\n",
    "                                  host=\"127.0.0.1\",\n",
    "                                  port=\"5432\",\n",
    "                                  database=\"ha2\")\n",
    "\n",
    "    df_grades = pd.read_sql(\"Select * from grades g inner join student s on g.student_id = s.student_id\", connection)\n",
    "\n",
    "except Exception as error:\n",
    "    print (\"Oops! An exception has occured:\", error)\n",
    "    print (\"Exception TYPE:\", type(error))\n",
    "finally:\n",
    "    if connection:\n",
    "        connection.close()\n",
    "        print(\"PostgreSQL connection is closed\")"
   ]
  },
  {
   "cell_type": "code",
   "execution_count": 75,
   "metadata": {},
   "outputs": [],
   "source": [
    "avg_grades = df_grades[[\"area\", \"gpa_all\"]].groupby(\"area\").mean()\n"
   ]
  },
  {
   "cell_type": "code",
   "execution_count": 76,
   "metadata": {},
   "outputs": [
    {
     "data": {
      "image/png": "[encoded data removed]",
      "text/plain": [
       "<Figure size 1440x720 with 1 Axes>"
      ]
     },
     "metadata": {
      "needs_background": "light"
     },
     "output_type": "display_data"
    }
   ],
   "source": [
    "plt.figure(figsize=(20,10))\n",
    "\n",
    "# Create bars with different colors\n",
    "plt.bar(avg_grades.index, avg_grades[\"gpa_all\"], color=['purple', 'red', 'green', 'blue'])\n",
    "\n",
    "# Create names on the x-axis\n",
    "plt.xticks(avg_grades.index, avg_grades.index)\n",
    "plt.ylabel(\"Avg GPA_all\")\n",
    "plt.title('Average GPA_all per area')\n",
    "\n",
    "for i in range(len(avg_grades[\"gpa_all\"])):\n",
    "    plt.annotate(\"{:4.3f}\".format(avg_grades[\"gpa_all\"].iloc[i]), xy=(avg_grades.index[i],avg_grades[\"gpa_all\"].iloc[i]), ha='center', va='bottom')\n",
    "\n",
    "\n",
    "plt.rcParams.update({'font.size': 20})\n",
    "\n",
    "# Show graph\n",
    "plt.show()"
   ]
  },
  {
   "cell_type": "markdown",
   "metadata": {},
   "source": [
    "# Database Systems - Homework Assignment 2 - Part 2"
   ]
  }
 ],
 "metadata": {
  "interpreter": {
   "hash": "1b8972ffc43115eb84afe0a9999ddcb75e293b216a1faa7c16a8499aa09c0202"
  },
  "kernelspec": {
   "display_name": "Python 3.9.4 ('MstCDCS_ETE2021_c')",
   "language": "python",
   "name": "python3"
  },
  "language_info": {
   "codemirror_mode": {
    "name": "ipython",
    "version": 3
   },
   "file_extension": ".py",
   "mimetype": "text/x-python",
   "name": "python",
   "nbconvert_exporter": "python",
   "pygments_lexer": "ipython3",
   "version": "3.9.4"
  }
 },
 "nbformat": 4,
 "nbformat_minor": 2
}
